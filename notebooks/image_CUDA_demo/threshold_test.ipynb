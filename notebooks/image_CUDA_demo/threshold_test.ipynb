{
 "cells": [
  {
   "cell_type": "markdown",
   "id": "45fd5ee6-9514-4fc2-8561-ec3aaec330a0",
   "metadata": {},
   "source": [
    "## Parallel Image thresholding using CUDA C++ and Python PIL"
   ]
  },
  {
   "cell_type": "markdown",
   "id": "4947f8aa-ba7b-4755-9373-5bc23cc013fd",
   "metadata": {},
   "source": [
    "### We aim to threshold this image of CERN, to enhance focus on the Alps and white text"
   ]
  },
  {
   "cell_type": "markdown",
   "id": "f1ac7a20-ddc1-408f-a42b-599f724c295b",
   "metadata": {},
   "source": [
    "<img src=\"img_in.jpg\" align=left width=\"400\">"
   ]
  },
  {
   "cell_type": "code",
   "execution_count": 1,
   "id": "9ba0128f-ef46-4b86-a4cd-02fba18d6516",
   "metadata": {},
   "outputs": [],
   "source": [
    "#include <iostream>\n",
    "#include <cmath>\n",
    "#include <cuda_runtime.h>\n",
    "#include<vector>"
   ]
  },
  {
   "cell_type": "markdown",
   "id": "482eb964-0d48-422d-8f67-fcd9fb785f89",
   "metadata": {},
   "source": [
    "### We define a CUDA kernel that brightens or underexposes pixels based on a threshold value:"
   ]
  },
  {
   "cell_type": "code",
   "execution_count": 2,
   "id": "c63a0cf7-c79b-4281-8b76-e0ccad6c7b93",
   "metadata": {},
   "outputs": [],
   "source": [
    "__global__ void thresholdKernel(float* input, float* output, const int width, const int height) {\n",
    "    const unsigned int col = threadIdx.x + blockIdx.x * blockDim.x;\n",
    "    const unsigned int row = threadIdx.y + blockIdx.y * blockDim.y;\n",
    "      if (row < height && col < width) {\n",
    "        \n",
    "    if(input[col + row * width] > 200)\n",
    "        output[col + row * width] = input[col + row * width] * 2;\n",
    "    else\n",
    "        output[col + row * width] = input[col + row * width] * 0.4;\n",
    "    }\n",
    "}"
   ]
  },
  {
   "cell_type": "code",
   "execution_count": 3,
   "id": "c7454511-0b12-4022-ab97-c73f50c3c1f8",
   "metadata": {},
   "outputs": [],
   "source": [
    "const int width = 512;  \n",
    "const int height = 512;"
   ]
  },
  {
   "cell_type": "code",
   "execution_count": 4,
   "id": "c639e359-7481-4fe0-8dfd-860885fd9044",
   "metadata": {},
   "outputs": [],
   "source": [
    "float* h_input = new float[width * height];\n",
    "float* h_output = new float[width * height];"
   ]
  },
  {
   "cell_type": "code",
   "execution_count": 5,
   "id": "bf055a82-9dd8-4961-a271-b3e5a144c909",
   "metadata": {},
   "outputs": [
    {
     "name": "stdout",
     "output_type": "stream",
     "text": [
      "Collecting Pillow\n",
      "  Obtaining dependency information for Pillow from https://files.pythonhosted.org/packages/7a/07/e896b096a77375e78e02ce222ae4fd6014928cd76c691d312060a1645dfa/Pillow-10.0.1-cp310-cp310-manylinux_2_28_x86_64.whl.metadata\n",
      "  Downloading Pillow-10.0.1-cp310-cp310-manylinux_2_28_x86_64.whl.metadata (9.5 kB)\n",
      "Downloading Pillow-10.0.1-cp310-cp310-manylinux_2_28_x86_64.whl (3.6 MB)\n",
      "   ━━━━━━━━━━━━━━━━━━━━━━━━━━━━━━━━━━━━━━━━ 3.6/3.6 MB 2.2 MB/s eta 0:00:00\n",
      "Installing collected packages: Pillow\n",
      "Successfully installed Pillow-10.0.1\n"
     ]
    }
   ],
   "source": [
    "!pip install Pillow"
   ]
  },
  {
   "cell_type": "code",
   "execution_count": 6,
   "id": "d7c9c2b7-45be-4d22-90f9-4d61042e353f",
   "metadata": {},
   "outputs": [
    {
     "name": "stdout",
     "output_type": "stream",
     "text": [
      "Collecting numpy\n",
      "  Obtaining dependency information for numpy from https://files.pythonhosted.org/packages/9b/5a/f265a1ba3641d16b5480a217a6aed08cceef09cd173b568cd5351053472a/numpy-1.26.0-cp310-cp310-manylinux_2_17_x86_64.manylinux2014_x86_64.whl.metadata\n",
      "  Downloading numpy-1.26.0-cp310-cp310-manylinux_2_17_x86_64.manylinux2014_x86_64.whl.metadata (58 kB)\n",
      "     ━━━━━━━━━━━━━━━━━━━━━━━━━━━━━━━━━━━━━━━━ 58.5/58.5 kB 1.0 MB/s eta 0:00:00\n",
      "Downloading numpy-1.26.0-cp310-cp310-manylinux_2_17_x86_64.manylinux2014_x86_64.whl (18.2 MB)\n",
      "   ━━━━━━━━━━━━━━━━━━━━━━━━━━━━━━━━━━━━━━━━ 18.2/18.2 MB 2.6 MB/s eta 0:00:00\n",
      "Installing collected packages: numpy\n",
      "Successfully installed numpy-1.26.0\n"
     ]
    }
   ],
   "source": [
    "!pip install numpy"
   ]
  },
  {
   "cell_type": "code",
   "execution_count": 7,
   "id": "ac00db7b-867a-4ff0-8afa-2c13006b9f32",
   "metadata": {},
   "outputs": [
    {
     "name": "stdout",
     "output_type": "stream",
     "text": [
      "Collecting matplotlib\n",
      "  Obtaining dependency information for matplotlib from https://files.pythonhosted.org/packages/b5/24/aaccf324ce862bb82277e8814d2aebbb2a2c160d04e95aa2b8c9dc3137a9/matplotlib-3.8.0-cp310-cp310-manylinux_2_17_x86_64.manylinux2014_x86_64.whl.metadata\n",
      "  Downloading matplotlib-3.8.0-cp310-cp310-manylinux_2_17_x86_64.manylinux2014_x86_64.whl.metadata (5.8 kB)\n",
      "Collecting contourpy>=1.0.1 (from matplotlib)\n",
      "  Obtaining dependency information for contourpy>=1.0.1 from https://files.pythonhosted.org/packages/f1/6b/e4b0f8708f22dd7c321f87eadbb98708975e115ac6582eb46d1f32197ce6/contourpy-1.1.1-cp310-cp310-manylinux_2_17_x86_64.manylinux2014_x86_64.whl.metadata\n",
      "  Downloading contourpy-1.1.1-cp310-cp310-manylinux_2_17_x86_64.manylinux2014_x86_64.whl.metadata (5.9 kB)\n",
      "Collecting cycler>=0.10 (from matplotlib)\n",
      "  Obtaining dependency information for cycler>=0.10 from https://files.pythonhosted.org/packages/e7/05/c19819d5e3d95294a6f5947fb9b9629efb316b96de511b418c53d245aae6/cycler-0.12.1-py3-none-any.whl.metadata\n",
      "  Downloading cycler-0.12.1-py3-none-any.whl.metadata (3.8 kB)\n",
      "Collecting fonttools>=4.22.0 (from matplotlib)\n",
      "  Obtaining dependency information for fonttools>=4.22.0 from https://files.pythonhosted.org/packages/ac/ed/9a33eca5e2cc35dc1fea0a968509c653db9a99a5979656ae57c6c019d66b/fonttools-4.43.1-cp310-cp310-manylinux_2_17_x86_64.manylinux2014_x86_64.whl.metadata\n",
      "  Downloading fonttools-4.43.1-cp310-cp310-manylinux_2_17_x86_64.manylinux2014_x86_64.whl.metadata (152 kB)\n",
      "     ━━━━━━━━━━━━━━━━━━━━━━━━━━━━━━━━━━━━━━━ 152.4/152.4 kB 1.4 MB/s eta 0:00:00\n",
      "Collecting kiwisolver>=1.0.1 (from matplotlib)\n",
      "  Obtaining dependency information for kiwisolver>=1.0.1 from https://files.pythonhosted.org/packages/6f/40/4ab1fdb57fced80ce5903f04ae1aed7c1d5939dda4fd0c0aa526c12fe28a/kiwisolver-1.4.5-cp310-cp310-manylinux_2_12_x86_64.manylinux2010_x86_64.whl.metadata\n",
      "  Downloading kiwisolver-1.4.5-cp310-cp310-manylinux_2_12_x86_64.manylinux2010_x86_64.whl.metadata (6.4 kB)\n",
      "Requirement already satisfied: numpy<2,>=1.21 in /opt/conda/envs/.venv/lib/python3.10/site-packages (from matplotlib) (1.26.0)\n",
      "Requirement already satisfied: packaging>=20.0 in /opt/conda/envs/.venv/lib/python3.10/site-packages (from matplotlib) (23.2)\n",
      "Requirement already satisfied: pillow>=6.2.0 in /opt/conda/envs/.venv/lib/python3.10/site-packages (from matplotlib) (10.0.1)\n",
      "Collecting pyparsing>=2.3.1 (from matplotlib)\n",
      "  Obtaining dependency information for pyparsing>=2.3.1 from https://files.pythonhosted.org/packages/39/92/8486ede85fcc088f1b3dba4ce92dd29d126fd96b0008ea213167940a2475/pyparsing-3.1.1-py3-none-any.whl.metadata\n",
      "  Downloading pyparsing-3.1.1-py3-none-any.whl.metadata (5.1 kB)\n",
      "Requirement already satisfied: python-dateutil>=2.7 in /opt/conda/envs/.venv/lib/python3.10/site-packages (from matplotlib) (2.8.2)\n",
      "Requirement already satisfied: six>=1.5 in /opt/conda/envs/.venv/lib/python3.10/site-packages (from python-dateutil>=2.7->matplotlib) (1.16.0)\n",
      "Downloading matplotlib-3.8.0-cp310-cp310-manylinux_2_17_x86_64.manylinux2014_x86_64.whl (11.6 MB)\n",
      "   ━━━━━━━━━━━━━━━━━━━━━━━━━━━━━━━━━━━━━━━━ 11.6/11.6 MB 1.8 MB/s eta 0:00:00\n",
      "Downloading contourpy-1.1.1-cp310-cp310-manylinux_2_17_x86_64.manylinux2014_x86_64.whl (301 kB)\n",
      "   ━━━━━━━━━━━━━━━━━━━━━━━━━━━━━━━━━━━━━━━━ 301.7/301.7 kB 1.8 MB/s eta 0:00:00\n",
      "Downloading cycler-0.12.1-py3-none-any.whl (8.3 kB)\n",
      "Downloading fonttools-4.43.1-cp310-cp310-manylinux_2_17_x86_64.manylinux2014_x86_64.whl (4.5 MB)\n",
      "   ━━━━━━━━━━━━━━━━━━━━━━━━━━━━━━━━━━━━━━━━ 4.5/4.5 MB 2.4 MB/s eta 0:00:00\n",
      "Downloading kiwisolver-1.4.5-cp310-cp310-manylinux_2_12_x86_64.manylinux2010_x86_64.whl (1.6 MB)\n",
      "   ━━━━━━━━━━━━━━━━━━━━━━━━━━━━━━━━━━━━━━━━ 1.6/1.6 MB 2.7 MB/s eta 0:00:00\n",
      "Downloading pyparsing-3.1.1-py3-none-any.whl (103 kB)\n",
      "   ━━━━━━━━━━━━━━━━━━━━━━━━━━━━━━━━━━━━━━━━ 103.1/103.1 kB 3.4 MB/s eta 0:00:00\n",
      "Installing collected packages: pyparsing, kiwisolver, fonttools, cycler, contourpy, matplotlib\n",
      "Successfully installed contourpy-1.1.1 cycler-0.12.1 fonttools-4.43.1 kiwisolver-1.4.5 matplotlib-3.8.0 pyparsing-3.1.1\n"
     ]
    }
   ],
   "source": [
    "!pip install matplotlib"
   ]
  },
  {
   "cell_type": "markdown",
   "id": "6d6a53e4-c2a1-49ad-9f76-90a86bf022b8",
   "metadata": {},
   "source": [
    "### Read the image in Python using PIL and convert to grayscale"
   ]
  },
  {
   "cell_type": "code",
   "execution_count": 8,
   "id": "a872a8cd-117b-4238-a4ea-e31e9dac48f3",
   "metadata": {},
   "outputs": [],
   "source": [
    "%%python\n",
    "\n",
    "from PIL import Image\n",
    "import numpy as np\n",
    "\n",
    "\n",
    "image = Image.open('img_in.jpg') \n",
    "image = image.resize((512, 512))\n",
    "\n",
    "image_array = np.array(image)\n",
    "if len(image_array.shape) == 3 and image_array.shape[2] == 3:\n",
    "    image_array = np.array(image.convert('L'))"
   ]
  },
  {
   "cell_type": "code",
   "execution_count": 9,
   "id": "7545b5c9-c901-4599-abde-3ae5ac17e160",
   "metadata": {},
   "outputs": [],
   "source": [
    "void displayImgArray(float* input) {\n",
    "    for (int i = 0; i < 3; i++) {\n",
    "        std::cout << input[i] << \" \"; \n",
    "    }\n",
    "\n",
    "    std::cout << \" ... \";\n",
    "\n",
    "    for (int i = width * height - 3; i < width * height; i++) {\n",
    "        std::cout << input[i] << \" \"; \n",
    "    }\n",
    "}"
   ]
  },
  {
   "cell_type": "markdown",
   "id": "6eb60938-dbd8-49f4-8e3b-23a975f36143",
   "metadata": {},
   "source": [
    "### Converting the python image into a std::vector using Cppyy:"
   ]
  },
  {
   "cell_type": "code",
   "execution_count": 10,
   "id": "a3c74a47-399e-4454-89f6-f4e8b0376a68",
   "metadata": {},
   "outputs": [],
   "source": [
    "%%python\n",
    "\n",
    "import cppyy\n",
    "\n",
    "img_list = image_array.flatten().tolist()\n",
    "img_vector = cppyy.gbl.std.vector['float'](img_list)"
   ]
  },
  {
   "cell_type": "markdown",
   "id": "cd6d8d32-6175-4af3-a0eb-7d563e142f1e",
   "metadata": {},
   "source": [
    "### C++ function that recives the std::vector and passes it to the CUDA function host input:"
   ]
  },
  {
   "cell_type": "code",
   "execution_count": 11,
   "id": "ab6c16bd-c44a-4e4e-985a-12c5ca3256a8",
   "metadata": {},
   "outputs": [],
   "source": [
    "\n",
    "void setImg(const std::vector<float>& input) {\n",
    "    if (h_input != nullptr) {\n",
    "        delete[] h_input;\n",
    "    }\n",
    "\n",
    "    h_input = new float[input.size()];\n",
    "\n",
    "    for (size_t i = 0; i < input.size(); i++) {\n",
    "        h_input[i] = input[i]; // No casting needed\n",
    "    }\n",
    "}\n"
   ]
  },
  {
   "cell_type": "markdown",
   "id": "75a21ae2-cffa-4f34-9404-c59577d9b67f",
   "metadata": {},
   "source": [
    "### C++ function to return the host output to the Python side:"
   ]
  },
  {
   "cell_type": "code",
   "execution_count": 12,
   "id": "a168bbab-fc67-41f5-85c1-f9980d75a00b",
   "metadata": {},
   "outputs": [],
   "source": [
    "std::vector<float> getOutput() {\n",
    "    std::vector<float> res;\n",
    "    for (size_t i = 0; i < width * height; i++) {\n",
    "        res.push_back(h_output[i]);\n",
    "    }\n",
    "    return res;\n",
    "}"
   ]
  },
  {
   "cell_type": "code",
   "execution_count": 13,
   "id": "2eec8b62-5500-45e4-9c02-9bc587288206",
   "metadata": {},
   "outputs": [],
   "source": [
    "%%python\n",
    "\n",
    "cppyy.gbl.setImg(img_vector)"
   ]
  },
  {
   "cell_type": "code",
   "execution_count": 14,
   "id": "fd1bef06-d14e-4c82-8fa5-da14df696fe5",
   "metadata": {},
   "outputs": [
    {
     "name": "stdout",
     "output_type": "stream",
     "text": [
      "126 126 125  ... 5 16 16 "
     ]
    }
   ],
   "source": [
    "displayImgArray(h_input);"
   ]
  },
  {
   "cell_type": "markdown",
   "id": "fa4fb49f-ea0f-40c0-bf4d-92ad469e0426",
   "metadata": {},
   "source": [
    "### Allocating CUDA memory and calling the kernel"
   ]
  },
  {
   "cell_type": "code",
   "execution_count": 15,
   "id": "ea90464f-ed8f-44f1-9336-99aa3dc85149",
   "metadata": {},
   "outputs": [],
   "source": [
    "float* d_input;\n",
    "float* d_output;\n",
    "\n",
    "cudaMalloc((void**)&d_input, width * height * sizeof(float));\n",
    "cudaMalloc((void**)&d_output, width * height * sizeof(float));\n",
    "\n",
    "cudaMemcpy(d_input, h_input, width * height * sizeof(float), cudaMemcpyHostToDevice);\n",
    "\n",
    "dim3 dimBlock(16, 16);\n",
    "dim3 dimGrid((width + dimBlock.x - 1) / dimBlock.x, (height + dimBlock.y - 1) / dimBlock.y);\n",
    "\n",
    "thresholdKernel<<<dimGrid, dimBlock>>>(d_input, d_output, width, height);\n",
    "\n",
    "cudaMemcpy(h_output, d_output, width * height * sizeof(float), cudaMemcpyDeviceToHost);\n",
    "\n",
    "cudaFree(d_input);\n",
    "cudaFree(d_output)"
   ]
  },
  {
   "cell_type": "markdown",
   "id": "1edf472e-fe51-4fd1-a0e5-e30a2d092739",
   "metadata": {},
   "source": [
    "### Verifying host output"
   ]
  },
  {
   "cell_type": "code",
   "execution_count": 16,
   "id": "7bf09ac1-ac6b-45e9-93c2-d4ae50897c2d",
   "metadata": {},
   "outputs": [
    {
     "name": "stdout",
     "output_type": "stream",
     "text": [
      "50.4 50.4 50  ... 2 6.4 6.4 "
     ]
    }
   ],
   "source": [
    "displayImgArray(h_output);"
   ]
  },
  {
   "cell_type": "code",
   "execution_count": 17,
   "id": "3a97a53f-c2b7-4e24-a299-a6c0ec81b16e",
   "metadata": {},
   "outputs": [],
   "source": [
    "std::vector<float> blurredRes = getOutput();"
   ]
  },
  {
   "cell_type": "markdown",
   "id": "e22c59e0-019f-479f-8fa0-63e00b680702",
   "metadata": {},
   "source": [
    "### Access the CUDA filter result on the Python side:"
   ]
  },
  {
   "cell_type": "code",
   "execution_count": 18,
   "id": "2586f437-295d-4b33-b18e-6f28628a7f81",
   "metadata": {},
   "outputs": [],
   "source": [
    "%%python\n",
    "\n",
    "k = np.array(cppyy.gbl.blurredRes, dtype = np.uint8)\n",
    "k.resize(512, 512)"
   ]
  },
  {
   "cell_type": "code",
   "execution_count": 19,
   "id": "a8104074-7398-4653-a81a-827dd81a16b3",
   "metadata": {},
   "outputs": [],
   "source": [
    "%%python\n",
    "\n",
    "Image.fromarray(k).save(\"img_out.jpg\")"
   ]
  },
  {
   "cell_type": "markdown",
   "id": "d0d2e15b-5a5f-4ed8-8f17-3fd1f3fc4daf",
   "metadata": {},
   "source": [
    "<img src=\"img_out.jpg\" align=left width=\"400\">\n"
   ]
  },
  {
   "cell_type": "code",
   "execution_count": null,
   "id": "0969406d-0bab-4022-bbeb-0e2581035ef4",
   "metadata": {},
   "outputs": [],
   "source": []
  }
 ],
 "metadata": {
  "kernelspec": {
   "display_name": "CppInterOp (C++17)",
   "language": "CUDA",
   "name": "cppinterop-xcpp17"
  },
  "language_info": {
   "codemirror_mode": "text/x-c++src",
   "file_extension": ".cpp",
   "mimetype": "text/x-c++src",
   "name": "c++",
   "version": "17"
  }
 },
 "nbformat": 4,
 "nbformat_minor": 5
}
