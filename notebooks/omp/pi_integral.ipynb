{
 "cells": [
  {
   "cell_type": "code",
   "execution_count": null,
   "id": "d8967ce2-994c-441e-b796-4099c6c6853c",
   "metadata": {},
   "outputs": [],
   "source": [
    "#include <omp.h>\n",
    "#include <stdio.h>\n",
    "#include </home/jovyan/CppInterOp/include/clang/Interpreter/CppInterOp.h>"
   ]
  },
  {
   "cell_type": "code",
   "execution_count": null,
   "id": "93b89565-44fe-4729-980b-d4f897161b0b",
   "metadata": {},
   "outputs": [],
   "source": [
    "Cpp::LoadLibrary(\"libomp\");"
   ]
  },
  {
   "cell_type": "code",
   "execution_count": null,
   "id": "9078ac79-ca50-4fef-b785-37f35fec3cab",
   "metadata": {},
   "outputs": [],
   "source": [
    "static long num_steps = 100000000;\n",
    "double step;"
   ]
  },
  {
   "cell_type": "code",
   "execution_count": null,
   "id": "f3c10995-6f29-4d71-9e61-1993ca9d1cc9",
   "metadata": {},
   "outputs": [],
   "source": [
    "int main() {\n",
    "    int i, j, num_threads_allocated;\n",
    "    double x, pi, sum = 0.0;\n",
    "    double start_time, run_time;\n",
    "\n",
    "    step = 1.0 / (double)num_steps;\n",
    "    printf(\"Num threads available: %d\\n\", omp_get_max_threads());\n",
    "    for (i = 1; i <= 4; i++) {\n",
    "        sum = 0.0;\n",
    "        omp_set_num_threads(i);\n",
    "        start_time = omp_get_wtime();\n",
    "#pragma omp parallel\n",
    "        {\n",
    "            num_threads_allocated = omp_get_num_threads();\n",
    "#pragma omp single\n",
    "            printf(\"Num threads allocated for this run: %d\\n\", num_threads_allocated);\n",
    "\n",
    "#pragma omp for reduction(+ : sum)\n",
    "            for (j = 1; j <= num_steps; j++) {\n",
    "                x = (j - 0.5) * step;\n",
    "                sum = sum + 4.0 / (1.0 + x * x);\n",
    "            }\n",
    "        }\n",
    "\n",
    "        pi = step * sum;\n",
    "        run_time = omp_get_wtime() - start_time;\n",
    "        printf(\"pi is %f in %f seconds using %d threads\\n\\n\", pi, run_time, num_threads_allocated);\n",
    "    }\n",
    "}"
   ]
  },
  {
   "cell_type": "code",
   "execution_count": null,
   "id": "0f84442a-d947-4860-bd3c-aeeea963b419",
   "metadata": {},
   "outputs": [],
   "source": [
    "main();"
   ]
  },
  {
   "cell_type": "code",
   "execution_count": null,
   "id": "a7066da1-729b-4230-980f-9be9430c19d6",
   "metadata": {},
   "outputs": [],
   "source": []
  }
 ],
 "metadata": {
  "kernelspec": {
   "display_name": "C++14",
   "language": "C++14",
   "name": "xcpp14"
  },
  "language_info": {
   "codemirror_mode": "text/x-c++src",
   "file_extension": ".cpp",
   "mimetype": "text/x-c++src",
   "name": "c++",
   "version": "14"
  }
 },
 "nbformat": 4,
 "nbformat_minor": 5
}
