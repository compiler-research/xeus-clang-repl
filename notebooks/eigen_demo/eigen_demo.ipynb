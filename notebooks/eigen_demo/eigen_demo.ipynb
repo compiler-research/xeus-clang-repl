{
 "cells": [
  {
   "cell_type": "code",
   "execution_count": 1,
   "id": "75b390f9-3dc5-46b8-a1da-64e25730737e",
   "metadata": {},
   "outputs": [],
   "source": [
    "#include<iostream>\n",
    "#include<ostream>\n",
    "#include \"eigen-3.4.0/Eigen/Dense\""
   ]
  },
  {
   "cell_type": "code",
   "execution_count": 2,
   "id": "815bd42b-024a-49c7-9557-fa5bfd8b4496",
   "metadata": {},
   "outputs": [],
   "source": [
    "typedef Eigen::Matrix<double, Eigen::Dynamic, Eigen::Dynamic> MatrixXd;\n",
    "\n",
    "Eigen::Vector2d a;\n",
    "Eigen::Vector3d b;\n",
    "Eigen::Vector4d c;"
   ]
  },
  {
   "cell_type": "code",
   "execution_count": 3,
   "id": "bca71004-dec4-4571-8a89-c9c9a54aaeee",
   "metadata": {},
   "outputs": [],
   "source": [
    "template <typename VectorType>\n",
    "class EigenOperations {\n",
    "public:\n",
    "    static VectorType PerformOperations(const VectorType& v) {\n",
    "        VectorType result = v;\n",
    "\n",
    "        // Normalize the vector\n",
    "        result.normalize();\n",
    "\n",
    "        // Add the dot product with itself\n",
    "        double dot = v.dot(v);\n",
    "        for (int i = 0; i < result.size(); i++) {\n",
    "            result[i] += dot;\n",
    "        }\n",
    "\n",
    "        // Subtract the squared norm\n",
    "        double squaredNorm = v.squaredNorm();\n",
    "        for (int i = 0; i < result.size(); i++) {\n",
    "            result[i] -= squaredNorm;\n",
    "        }\n",
    "\n",
    "        return result;\n",
    "    }\n",
    "};\n"
   ]
  },
  {
   "cell_type": "code",
   "execution_count": 4,
   "id": "9b7e7fee-1edd-427c-a738-0cdf941200c1",
   "metadata": {},
   "outputs": [],
   "source": [
    "%%python\n",
    "\n",
    "import cppyy\n",
    "\n",
    "def display_eigen(vec, name):\n",
    "    print(\"Vector : \", name, \", Dimensions : \", len(vec))\n",
    "    for x in vec:\n",
    "        print(x)\n",
    "\n",
    "dynamic = cppyy.gbl.MatrixXd\n",
    "a = cppyy.gbl.a\n",
    "b = cppyy.gbl.b\n",
    "c = cppyy.gbl.c"
   ]
  },
  {
   "cell_type": "code",
   "execution_count": 6,
   "id": "3775e315-652d-4dea-8729-e36549524b62",
   "metadata": {},
   "outputs": [],
   "source": [
    "%%python\n",
    "\n",
    "for i in range(len(a)):\n",
    "    a[i] = i + 1\n",
    "\n",
    "for i in range(len(b)):\n",
    "    b[i] = i + 1\n",
    "\n",
    "for i in range(len(c)):\n",
    "    c[i] = i + 1"
   ]
  },
  {
   "cell_type": "code",
   "execution_count": 7,
   "id": "ca77d6ff-3428-4977-9072-9f2f2a904973",
   "metadata": {},
   "outputs": [
    {
     "name": "stdout",
     "output_type": "stream",
     "text": [
      "Vector :  A , Dimensions :  2\n",
      "1.0\n",
      "2.0\n",
      "Vector :  B , Dimensions :  3\n",
      "1.0\n",
      "2.0\n",
      "3.0\n",
      "Vector :  C , Dimensions :  4\n",
      "1.0\n",
      "2.0\n",
      "3.0\n",
      "4.0\n"
     ]
    }
   ],
   "source": [
    "%%python\n",
    "\n",
    "display_eigen(a, \"A\")\n",
    "display_eigen(b, \"B\")\n",
    "display_eigen(c, \"C\")"
   ]
  },
  {
   "cell_type": "code",
   "execution_count": 8,
   "id": "a01b4c6d-88ea-4cb1-a17e-716e1d813b1b",
   "metadata": {},
   "outputs": [],
   "source": [
    "%%python\n",
    "\n",
    "res2d = cppyy.gbl.EigenOperations[\"Eigen::Vector2d\"].PerformOperations(a)\n",
    "res3d = cppyy.gbl.EigenOperations[\"Eigen::Vector3d\"].PerformOperations(b)\n",
    "res4d = cppyy.gbl.EigenOperations[\"Eigen::Vector4d\"].PerformOperations(c)"
   ]
  },
  {
   "cell_type": "code",
   "execution_count": 9,
   "id": "4078ec69-0b4d-4350-8e6b-2d793bc27491",
   "metadata": {},
   "outputs": [
    {
     "name": "stdout",
     "output_type": "stream",
     "text": [
      "Vector :  A , Dimensions :  2\n",
      "0.4472135954999583\n",
      "0.8944271909999157\n",
      "Vector :  B , Dimensions :  3\n",
      "0.26726124191242384\n",
      "0.5345224838248495\n",
      "0.8017837257372733\n",
      "Vector :  C , Dimensions :  4\n",
      "0.1825741858350547\n",
      "0.3651483716701094\n",
      "0.5477225575051676\n",
      "0.7302967433402223\n"
     ]
    }
   ],
   "source": [
    "%%python\n",
    "\n",
    "display_eigen(res2d, \"A\")\n",
    "display_eigen(res3d, \"B\")\n",
    "display_eigen(res4d, \"C\")"
   ]
  },
  {
   "cell_type": "code",
   "execution_count": null,
   "id": "65bb897c-8251-4898-a6ac-725f4dce8c07",
   "metadata": {},
   "outputs": [],
   "source": []
  }
 ],
 "metadata": {
  "kernelspec": {
   "display_name": "C++17",
   "language": "C++17",
   "name": "xcpp17"
  },
  "language_info": {
   "codemirror_mode": "text/x-c++src",
   "file_extension": ".cpp",
   "mimetype": "text/x-c++src",
   "name": "c++",
   "version": "17"
  }
 },
 "nbformat": 4,
 "nbformat_minor": 5
}
