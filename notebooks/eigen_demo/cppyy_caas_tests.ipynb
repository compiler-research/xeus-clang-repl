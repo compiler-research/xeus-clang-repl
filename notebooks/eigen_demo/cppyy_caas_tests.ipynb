{
 "cells": [
  {
   "cell_type": "code",
   "execution_count": 1,
   "id": "1170e2e2-0b77-4d70-afab-3069af8d0528",
   "metadata": {},
   "outputs": [],
   "source": [
    "#include<iostream>\n",
    "#include<vector>"
   ]
  },
  {
   "cell_type": "code",
   "execution_count": 2,
   "id": "9af566fb-a31f-4d0b-ad7b-69383b2b0940",
   "metadata": {},
   "outputs": [],
   "source": [
    "namespace VoidPtrArray {\n",
    "            typedef struct _name {\n",
    "                _name() { p[0] = (void*)0x1; p[1] = (void*)0x2; p[2] = (void*)0x3; }\n",
    "                void* p[3];\n",
    "            } name;\n",
    "        }"
   ]
  },
  {
   "cell_type": "code",
   "execution_count": 3,
   "id": "ce6a3448-50ee-483c-8c67-b3e3fd9f6c8a",
   "metadata": {},
   "outputs": [],
   "source": [
    "%%python\n",
    "\n",
    "n = cppyy.gbl.VoidPtrArray.name()\n",
    "assert n.p[0] == 0x1\n",
    "assert n.p[1] == 0x2\n",
    "assert n.p[2] == 0x3"
   ]
  },
  {
   "cell_type": "code",
   "execution_count": 4,
   "id": "9dde9a47-48a7-4cae-90db-d489d61a1c51",
   "metadata": {},
   "outputs": [],
   "source": [
    "namespace VectorConstCharStar {\n",
    "            std::vector<const char*> test = {\"hello\"};\n",
    "        }"
   ]
  },
  {
   "cell_type": "code",
   "execution_count": 5,
   "id": "4c45ea0c-3634-43a3-bae9-c1972e6b4762",
   "metadata": {},
   "outputs": [],
   "source": [
    "%%python\n",
    "\n",
    "import cppyy\n",
    "ns = cppyy.gbl.VectorConstCharStar\n",
    "\n",
    "assert len(ns.test) == 1\n",
    "assert ns.test[0] == \"hello\"\n",
    "\n",
    "ns.test.push_back(\"world\")\n",
    "assert len(ns.test) == 2\n",
    "assert ns.test[0] == \"hello\"\n",
    "assert ns.test[1] == \"world\""
   ]
  },
  {
   "cell_type": "code",
   "execution_count": 6,
   "id": "d5699a3b-94ce-4b1a-96f5-2b3264e0cabb",
   "metadata": {},
   "outputs": [],
   "source": [
    "namespace ArrayLike {\n",
    "struct __attribute__((__packed__)) Vector3f {\n",
    "    float x, y, z;\n",
    "}; }\n"
   ]
  },
  {
   "cell_type": "code",
   "execution_count": 7,
   "id": "8bff7898-1265-4341-941e-3d1810b06abd",
   "metadata": {},
   "outputs": [],
   "source": [
    "%%python\n",
    "\n",
    "N = 5\n",
    "\n",
    "v = cppyy.gbl.std.vector['ArrayLike::Vector3f'](N)\n",
    "\n",
    "for i in range(N):\n",
    "    d = v[i]\n",
    "    d.x, d.y, d.z = i, i*N, i*N**2\n"
   ]
  },
  {
   "cell_type": "code",
   "execution_count": 8,
   "id": "bbc3c5a0-7b0b-46ae-a576-7e5721b0883a",
   "metadata": {},
   "outputs": [],
   "source": [
    "%%python\n",
    "\n",
    "for i in range(N):\n",
    "    d = v[i]\n",
    "    assert d.x == float(i)\n",
    "    assert d.y == float(i*N)\n",
    "    assert d.z == float(i*N**2)\n"
   ]
  },
  {
   "cell_type": "markdown",
   "id": "15727205-0392-4fbd-a7e5-8cdb73f37ab1",
   "metadata": {},
   "source": [
    "#### STL-like class with preinc by-ref returns"
   ]
  },
  {
   "cell_type": "code",
   "execution_count": 10,
   "id": "65ec9f7d-40a6-44c4-a944-6182ea7f8b02",
   "metadata": {},
   "outputs": [],
   "source": [
    "namespace PreIncrement {\n",
    "        struct Token {\n",
    "            int value;\n",
    "        };\n",
    "\n",
    "struct Iterator {\n",
    "    Token current;\n",
    "\n",
    "    bool operator!=(const Iterator& rhs) {\n",
    "        return rhs.current.value != current.value; }\n",
    "    const Token& operator*() { return current; }\n",
    "    Iterator& operator++() {\n",
    "        current.value++;\n",
    "        return *this;\n",
    "    }\n",
    "};\n",
    "\n",
    "struct Stream {\n",
    "    Iterator begin() { return Iterator(); }\n",
    "    Iterator end() { return Iterator{10}; }\n",
    "}; }"
   ]
  },
  {
   "cell_type": "code",
   "execution_count": 15,
   "id": "c4ed4321-6b9b-4531-8d79-ee00f7d46e3a",
   "metadata": {},
   "outputs": [
    {
     "name": "stderr",
     "output_type": "stream",
     "text": [
      "Traceback (most recent call last):\n",
      "  File \"<string>\", line 5, in <module>\n",
      "TypeError: PreIncrement::Iterator PreIncrement::Stream::beginIterator PreIncrement::Stream::begin() =>\n",
      "    TypeError: unbound method Stream::begin must be called with a Stream instance as first argument\n"
     ]
    }
   ],
   "source": [
    "%%python\n",
    "\n",
    "import cppyy\n",
    "ns = cppyy.gbl.PreIncrement\n",
    "\n",
    "stream = ns.Stream\n",
    "stream.begin(stream)"
   ]
  }
 ],
 "metadata": {
  "kernelspec": {
   "display_name": "CUDA (C++17)",
   "language": "CUDA",
   "name": "cuda-xcpp17"
  },
  "language_info": {
   "codemirror_mode": "text/x-c++src",
   "file_extension": ".cpp",
   "mimetype": "text/x-c++src",
   "name": "c++",
   "version": "17"
  }
 },
 "nbformat": 4,
 "nbformat_minor": 5
}
