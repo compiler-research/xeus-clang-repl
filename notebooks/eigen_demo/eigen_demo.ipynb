{
 "cells": [
  {
   "cell_type": "markdown",
   "id": "6c9eda5c-bf2f-4bcd-8dee-bc7db08dd801",
   "metadata": {},
   "source": [
    "### Here we include the **conda** installed library using Cppyy"
   ]
  },
  {
   "cell_type": "code",
   "execution_count": 1,
   "id": "b172dcbe-7a72-4d1a-8e70-5955dec48735",
   "metadata": {},
   "outputs": [
    {
     "name": "stdout",
     "output_type": "stream",
     "text": [
      "Collecting package metadata (current_repodata.json): ...working... done\n",
      "Solving environment: ...working... done\n",
      "\n",
      "\n",
      "==> WARNING: A newer version of conda exists. <==\n",
      "  current version: 22.9.0\n",
      "  latest version: 23.7.4\n",
      "\n",
      "Please update conda by running\n",
      "\n",
      "    $ conda update -n base -c conda-forge conda\n",
      "\n",
      "\n",
      "\n",
      "# All requested packages already installed.\n",
      "\n",
      "Retrieving notices: ...working... done\n"
     ]
    }
   ],
   "source": [
    "!conda install -y -c conda-forge eigen"
   ]
  },
  {
   "cell_type": "code",
   "execution_count": 2,
   "id": "01d6e223-c6bc-4255-bd2f-a2deb68ea06d",
   "metadata": {},
   "outputs": [],
   "source": [
    "#include <clang/Interpreter/CppInterOp.h>\n",
    "Cpp::AddIncludePath(\"/opt/conda/envs/.venv/include\");"
   ]
  },
  {
   "cell_type": "markdown",
   "id": "22e7b3ed-747e-4bd5-8b89-4a6e5661dfbf",
   "metadata": {},
   "source": [
    "### We are immediately able to use the `Eigen::Dense` namespaces in our C++ code cell"
   ]
  },
  {
   "cell_type": "code",
   "execution_count": 3,
   "id": "815bd42b-024a-49c7-9557-fa5bfd8b4496",
   "metadata": {},
   "outputs": [],
   "source": [
    "#include \"/opt/conda/envs/.venv/include/eigen3/Eigen/Dense\"\n",
    "\n",
    "typedef Eigen::Matrix<double, Eigen::Dynamic, Eigen::Dynamic> MatrixXd;\n",
    "\n",
    "Eigen::Vector2d a;\n",
    "Eigen::Vector3d b;\n",
    "Eigen::Vector4d c;"
   ]
  },
  {
   "cell_type": "markdown",
   "id": "0766e5c0-2d3b-4ae4-96bd-4a78f3b02cc2",
   "metadata": {},
   "source": [
    "### We can define a templated class with a set of vector operations offered by Eigen "
   ]
  },
  {
   "cell_type": "code",
   "execution_count": 4,
   "id": "bca71004-dec4-4571-8a89-c9c9a54aaeee",
   "metadata": {},
   "outputs": [],
   "source": [
    "template <typename VectorType>\n",
    "class EigenOperations {\n",
    "public:\n",
    "    static VectorType PerformOperations(const VectorType& v) {\n",
    "        VectorType result = v;\n",
    "        \n",
    "        // Using Eigen::Dense object methods\n",
    "        \n",
    "        result.normalize(); // eigen vector normalisation\n",
    "\n",
    "        double dot = v.dot(v); // dot product\n",
    "        for (int i = 0; i < result.size(); i++) {\n",
    "            result[i] += dot;\n",
    "        }\n",
    " \n",
    "        double squaredNorm = v.squaredNorm(); // vector squared norm \n",
    "        for (int i = 0; i < result.size(); i++) {\n",
    "            result[i] -= squaredNorm;\n",
    "        }\n",
    "\n",
    "        return result;\n",
    "    }\n",
    "};\n"
   ]
  },
  {
   "cell_type": "markdown",
   "id": "de00d39d-8156-4ecb-a932-924661e7b80e",
   "metadata": {},
   "source": [
    "### Accessing the declared Eigen vectors on the Python side using Cppyy"
   ]
  },
  {
   "cell_type": "code",
   "execution_count": 5,
   "id": "9b7e7fee-1edd-427c-a738-0cdf941200c1",
   "metadata": {},
   "outputs": [],
   "source": [
    "%%python\n",
    "\n",
    "import cppyy\n",
    "\n",
    "a = cppyy.gbl.a\n",
    "b = cppyy.gbl.b\n",
    "c = cppyy.gbl.c\n",
    "\n",
    "def display_eigen(vec, name):\n",
    "    print(\"Vector : \", name, \", Dimensions : \", len(vec))\n",
    "    for x in vec:\n",
    "        print(x)"
   ]
  },
  {
   "cell_type": "markdown",
   "id": "07cfc277-4202-47b6-9859-dd4a651bd4a1",
   "metadata": {},
   "source": [
    "#### Setting values to the C++ Eigen Vector"
   ]
  },
  {
   "cell_type": "code",
   "execution_count": 6,
   "id": "3775e315-652d-4dea-8729-e36549524b62",
   "metadata": {},
   "outputs": [],
   "source": [
    "%%python\n",
    "\n",
    "for i in range(len(a)):\n",
    "    a[i] = i - 1\n",
    "\n",
    "for i in range(len(b)):\n",
    "    b[i] = i + 1\n",
    "\n",
    "for i in range(len(c)):\n",
    "    c[i] = i - 1"
   ]
  },
  {
   "cell_type": "code",
   "execution_count": 7,
   "id": "ca77d6ff-3428-4977-9072-9f2f2a904973",
   "metadata": {},
   "outputs": [
    {
     "name": "stdout",
     "output_type": "stream",
     "text": [
      "Vector :  A , Dimensions :  2\n",
      "-1.0\n",
      "0.0\n",
      "Vector :  B , Dimensions :  3\n",
      "1.0\n",
      "2.0\n",
      "3.0\n",
      "Vector :  C , Dimensions :  4\n",
      "-1.0\n",
      "0.0\n",
      "1.0\n",
      "2.0\n"
     ]
    }
   ],
   "source": [
    "%%python\n",
    "\n",
    "display_eigen(a, \"A\")\n",
    "display_eigen(b, \"B\")\n",
    "display_eigen(c, \"C\")"
   ]
  },
  {
   "cell_type": "markdown",
   "id": "e8c29a51-9897-4e16-9f6e-bacf918129cb",
   "metadata": {},
   "source": [
    "### Calling the Templated method of the C++ class from the Python side"
   ]
  },
  {
   "cell_type": "code",
   "execution_count": 8,
   "id": "a01b4c6d-88ea-4cb1-a17e-716e1d813b1b",
   "metadata": {},
   "outputs": [],
   "source": [
    "%%python\n",
    "\n",
    "res2d = cppyy.gbl.EigenOperations[\"Eigen::Vector2d\"].PerformOperations(a)\n",
    "res3d = cppyy.gbl.EigenOperations[\"Eigen::Vector3d\"].PerformOperations(b)\n",
    "res4d = cppyy.gbl.EigenOperations[\"Eigen::Vector4d\"].PerformOperations(c)"
   ]
  },
  {
   "cell_type": "code",
   "execution_count": 9,
   "id": "680cc0d4-3d7b-441c-8f71-3acdf1b9b3e2",
   "metadata": {},
   "outputs": [
    {
     "name": "stdout",
     "output_type": "stream",
     "text": [
      "Requirement already satisfied: matplotlib in /opt/conda/envs/.venv/lib/python3.10/site-packages (3.8.0)\n",
      "Requirement already satisfied: contourpy>=1.0.1 in /opt/conda/envs/.venv/lib/python3.10/site-packages (from matplotlib) (1.1.1)\n",
      "Requirement already satisfied: cycler>=0.10 in /opt/conda/envs/.venv/lib/python3.10/site-packages (from matplotlib) (0.11.0)\n",
      "Requirement already satisfied: fonttools>=4.22.0 in /opt/conda/envs/.venv/lib/python3.10/site-packages (from matplotlib) (4.42.1)\n",
      "Requirement already satisfied: kiwisolver>=1.0.1 in /opt/conda/envs/.venv/lib/python3.10/site-packages (from matplotlib) (1.4.5)\n",
      "Requirement already satisfied: numpy<2,>=1.21 in /opt/conda/envs/.venv/lib/python3.10/site-packages (from matplotlib) (1.26.0)\n",
      "Requirement already satisfied: packaging>=20.0 in /opt/conda/envs/.venv/lib/python3.10/site-packages (from matplotlib) (23.1)\n",
      "Requirement already satisfied: pillow>=6.2.0 in /opt/conda/envs/.venv/lib/python3.10/site-packages (from matplotlib) (10.0.1)\n",
      "Requirement already satisfied: pyparsing>=2.3.1 in /opt/conda/envs/.venv/lib/python3.10/site-packages (from matplotlib) (3.1.1)\n",
      "Requirement already satisfied: python-dateutil>=2.7 in /opt/conda/envs/.venv/lib/python3.10/site-packages (from matplotlib) (2.8.2)\n",
      "Requirement already satisfied: six>=1.5 in /opt/conda/envs/.venv/lib/python3.10/site-packages (from python-dateutil>=2.7->matplotlib) (1.16.0)\n"
     ]
    }
   ],
   "source": [
    "!pip install matplotlib"
   ]
  },
  {
   "cell_type": "code",
   "execution_count": 10,
   "id": "876beb2f-113e-4889-bd10-3e460d17181e",
   "metadata": {},
   "outputs": [],
   "source": [
    "%%python\n",
    "\n",
    "import matplotlib.pyplot as plt\n",
    "import numpy as np\n",
    "\n",
    "origin = [0, 0]\n",
    "\n",
    "np_res2 = np.array(list(res2d))\n",
    "np_res3 = np.array(list(res3d)) \n",
    "np_res4 = np.array(list(res4d)) \n",
    "\n",
    "plt.quiver(*origin, *np_res2, color=['r'], scale=5)\n",
    "plt.quiver(*origin, *np_res3, color=['b'], scale=5)\n",
    "\n",
    "\n",
    "plt.savefig(\"test.jpg\")\n",
    "plt.show()"
   ]
  },
  {
   "cell_type": "markdown",
   "id": "fc77ec01-bd62-4a87-b2e1-76141623fc5c",
   "metadata": {},
   "source": [
    "<img src=\"./test.jpg\"/>"
   ]
  },
  {
   "cell_type": "code",
   "execution_count": 12,
   "id": "4078ec69-0b4d-4350-8e6b-2d793bc27491",
   "metadata": {},
   "outputs": [
    {
     "name": "stdout",
     "output_type": "stream",
     "text": [
      "Vector :  A , Dimensions :  2\n",
      "-1.0\n",
      "0.0\n",
      "Vector :  B , Dimensions :  3\n",
      "0.26726124191242384\n",
      "0.5345224838248495\n",
      "0.8017837257372733\n",
      "Vector :  C , Dimensions :  4\n",
      "-0.40824829046386313\n",
      "0.0\n",
      "0.40824829046386313\n",
      "0.8164965809277263\n"
     ]
    }
   ],
   "source": [
    "%%python\n",
    "\n",
    "display_eigen(res2d, \"A\")\n",
    "display_eigen(res3d, \"B\")\n",
    "display_eigen(res4d, \"C\")"
   ]
  }
 ],
 "metadata": {
  "kernelspec": {
   "display_name": "C++17",
   "language": "C++17",
   "name": "xcpp17"
  },
  "language_info": {
   "codemirror_mode": "text/x-c++src",
   "file_extension": ".cpp",
   "mimetype": "text/x-c++src",
   "name": "c++",
   "version": "17"
  }
 },
 "nbformat": 4,
 "nbformat_minor": 5
}
