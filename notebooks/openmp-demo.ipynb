{
 "cells": [
  {
   "cell_type": "code",
   "execution_count": null,
   "id": "b0c15570-ee24-42ed-b61f-11a3fc858b2d",
   "metadata": {},
   "outputs": [],
   "source": [
    "#include <iostream>\n",
    "#include \"omp.h\"\n",
    "#include </home/jovyan/CppInterOp/include/clang/Interpreter/CppInterOp.h>"
   ]
  },
  {
   "cell_type": "code",
   "execution_count": null,
   "id": "1b4dac8e-3ad2-46eb-b801-ba717e664b93",
   "metadata": {},
   "outputs": [],
   "source": [
    "Cpp::LoadLibrary(\"libomp\");"
   ]
  },
  {
   "cell_type": "code",
   "execution_count": null,
   "id": "5001e441-1fa5-4bdc-9fa5-2ca103ae484f",
   "metadata": {},
   "outputs": [],
   "source": [
    "void example1() {\n",
    "  std::cout << \"Hello World!\" << std::endl;\n",
    "}\n",
    "example1();"
   ]
  },
  {
   "cell_type": "code",
   "execution_count": null,
   "id": "53fb7656-b72e-42bc-ade7-2ae2077142da",
   "metadata": {},
   "outputs": [],
   "source": [
    "void example2() {\n",
    "    #pragma omp parallel\n",
    "    {\n",
    "    std::cout << \"Hello World!\" << std::endl;\n",
    "    }\n",
    "}\n",
    "example2();"
   ]
  },
  {
   "cell_type": "code",
   "execution_count": null,
   "id": "efcdfdb6-a60b-46af-8194-75ef9cc0e27f",
   "metadata": {},
   "outputs": [],
   "source": [
    "void example3() {\n",
    "    #pragma omp parallel\n",
    "    {\n",
    "    std::cout << \"Hello World! (\" << omp_get_thread_num() << \")\" << std::endl;\n",
    "    }\n",
    "}\n",
    "example3();"
   ]
  },
  {
   "cell_type": "code",
   "execution_count": null,
   "id": "d86a9efa-ba28-4cb6-bbfc-abc00ee63506",
   "metadata": {},
   "outputs": [],
   "source": [
    "void example4() {\n",
    "    #pragma omp parallel\n",
    "    {\n",
    "    std::cout << \"Hello World! (\" << omp_get_thread_num() << \")\" << std::endl;\n",
    "    }\n",
    "\n",
    "    std::cout << \"This is another message! (\" << omp_get_thread_num() << \")\" << std::endl;\n",
    "\n",
    "    #pragma omp parallel num_threads(2)\n",
    "    {\n",
    "    std::cout << \"Goodbye World! (\" << omp_get_thread_num() << \")\" << std::endl;\n",
    "    }\n",
    "}\n",
    "example4();"
   ]
  },
  {
   "cell_type": "code",
   "execution_count": null,
   "id": "5557e01a-7c7d-4b54-8545-962ad11027df",
   "metadata": {},
   "outputs": [],
   "source": [
    "void example5() {\n",
    "    double start_time = omp_get_wtime();\n",
    "    double start_loop;\n",
    "    \n",
    "    const int N = 1000000000;\n",
    "    int* a = new int[N];\n",
    "    int* b = new int[N];\n",
    "    \n",
    "    start_loop = omp_get_wtime();\n",
    "    #pragma omp parallel for\n",
    "    for (int i=0; i<N; i++) {\n",
    "        a[i] = 1.0;\n",
    "    }\n",
    "    std::cout << \"Initialize a[] time: \" << omp_get_wtime()-start_loop << std::endl;\n",
    "\n",
    "    start_loop = omp_get_wtime();\n",
    "    #pragma omp parallel for\n",
    "    for (int i=0; i<N; i++) {\n",
    "        b[i] = 1.0 + double(i);\n",
    "    }\n",
    "    std::cout << \"Initialize b[] time: \" << omp_get_wtime()-start_loop << std::endl;\n",
    "\n",
    "    start_loop = omp_get_wtime();\n",
    "    #pragma omp parallel for\n",
    "    for (int i=0; i<N; i++) {\n",
    "        a[i] = a[i] + b[i];\n",
    "    }\n",
    "    std::cout << \"Add arrays time: \" << omp_get_wtime()-start_loop << std::endl;\n",
    "    \n",
    "    start_loop = omp_get_wtime();\n",
    "    double average = 0.0;\n",
    "    #pragma omp parallel for reduction(+:average)\n",
    "    for (int i=0; i<N; i++) {\n",
    "        average += a[i];\n",
    "    }\n",
    "    average = average/double(N);\n",
    "    std::cout << \"Average result time: \" << omp_get_wtime()-start_loop << std::endl;\n",
    "    \n",
    "    std::cout << \"Average: \" << average << std::endl;\n",
    "\n",
    "    std::cout << \"Total time: \" << omp_get_wtime()-start_time << std::endl;\n",
    "}\n",
    "example5();"
   ]
  }
 ],
 "metadata": {
  "kernelspec": {
   "display_name": "C++11 (with OpenMP)",
   "language": "C++11",
   "name": "xcpp11"
  },
  "language_info": {
   "codemirror_mode": "text/x-c++src",
   "file_extension": ".cpp",
   "mimetype": "text/x-c++src",
   "name": "c++",
   "version": "11"
  }
 },
 "nbformat": 4,
 "nbformat_minor": 5
}
