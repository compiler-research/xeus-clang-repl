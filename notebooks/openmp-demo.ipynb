{
 "cells": [
  {
   "cell_type": "code",
   "execution_count": null,
   "id": "b0c15570-ee24-42ed-b61f-11a3fc858b2d",
   "metadata": {},
   "outputs": [],
   "source": [
    "#include <iostream>\n",
    "#include <omp.h>\n",
    "#include <dlfcn.h>"
   ]
  },
  {
   "cell_type": "code",
   "execution_count": null,
   "id": "1b4dac8e-3ad2-46eb-b801-ba717e664b93",
   "metadata": {},
   "outputs": [],
   "source": [
    "auto h = dlopen(\"libgomp.so\", RTLD_LAZY);\n",
    "if (!h) printf(\"%s\\n\", dlerror());"
   ]
  },
  {
   "cell_type": "code",
   "execution_count": null,
   "id": "0803d343-f636-4bc9-9968-8b49023c4440",
   "metadata": {},
   "outputs": [],
   "source": [
    "//#pragma omp parallel num_threads(4)\n",
    "//#pragma omp critical\n",
    "std::cout << \"tid = \" << omp_get_thread_num() << std::endl;"
   ]
  },
  {
   "cell_type": "code",
   "execution_count": null,
   "id": "e25ba227-2995-4041-a2a9-258ac975c3e4",
   "metadata": {},
   "outputs": [],
   "source": [
    "#pragma omp parallel for\n",
    "for(int i = 1; i < 100; ++i)\n",
    "{\n",
    "   std::cout << i << std::endl;\n",
    "}"
   ]
  }
 ],
 "metadata": {
  "kernelspec": {
   "display_name": "C++11 (with OpenMP)",
   "language": "C++11",
   "name": "xcpp11"
  },
  "language_info": {
   "codemirror_mode": "text/x-c++src",
   "file_extension": ".cpp",
   "mimetype": "text/x-c++src",
   "name": "c++",
   "version": "11"
  }
 },
 "nbformat": 4,
 "nbformat_minor": 5
}
