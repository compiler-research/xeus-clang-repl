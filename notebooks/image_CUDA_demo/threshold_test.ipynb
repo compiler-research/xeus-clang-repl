{
 "cells": [
  {
   "cell_type": "code",
   "execution_count": 1,
   "id": "9ba0128f-ef46-4b86-a4cd-02fba18d6516",
   "metadata": {},
   "outputs": [],
   "source": [
    "#include <iostream>\n",
    "#include <cmath>\n",
    "#include <cuda_runtime.h>\n",
    "#include<vector>\n"
   ]
  },
  {
   "cell_type": "code",
   "execution_count": 2,
   "id": "c63a0cf7-c79b-4281-8b76-e0ccad6c7b93",
   "metadata": {},
   "outputs": [],
   "source": [
    "__global__ void thresholdKernel(float* input, float* output, const int width, const int height) {\n",
    "    const unsigned int col = threadIdx.x + blockIdx.x * blockDim.x;\n",
    "    const unsigned int row = threadIdx.y + blockIdx.y * blockDim.y;\n",
    "      if (row < height && col < width) {\n",
    "        \n",
    "    if(input[col + row * width] > 200)\n",
    "        output[col + row * width] = input[col + row * width] * 2;\n",
    "    else\n",
    "        output[col + row * width] = input[col + row * width] * 0.4;\n",
    "    }\n",
    "}"
   ]
  },
  {
   "cell_type": "code",
   "execution_count": 3,
   "id": "c7454511-0b12-4022-ab97-c73f50c3c1f8",
   "metadata": {},
   "outputs": [],
   "source": [
    "const int width = 512;  \n",
    "const int height = 512;"
   ]
  },
  {
   "cell_type": "code",
   "execution_count": 4,
   "id": "c639e359-7481-4fe0-8dfd-860885fd9044",
   "metadata": {},
   "outputs": [],
   "source": [
    "float* h_input = new float[width * height];\n",
    "float* h_output = new float[width * height];"
   ]
  },
  {
   "cell_type": "code",
   "execution_count": 5,
   "id": "bf055a82-9dd8-4961-a271-b3e5a144c909",
   "metadata": {},
   "outputs": [
    {
     "name": "stdout",
     "output_type": "stream",
     "text": [
      "Requirement already satisfied: Pillow in /opt/conda/envs/.venv/lib/python3.10/site-packages (10.0.1)\n"
     ]
    }
   ],
   "source": [
    "!pip install Pillow"
   ]
  },
  {
   "cell_type": "code",
   "execution_count": 6,
   "id": "d7c9c2b7-45be-4d22-90f9-4d61042e353f",
   "metadata": {},
   "outputs": [
    {
     "name": "stdout",
     "output_type": "stream",
     "text": [
      "Requirement already satisfied: numpy in /opt/conda/envs/.venv/lib/python3.10/site-packages (1.26.0)\n"
     ]
    }
   ],
   "source": [
    "!pip install numpy"
   ]
  },
  {
   "cell_type": "code",
   "execution_count": 7,
   "id": "ac00db7b-867a-4ff0-8afa-2c13006b9f32",
   "metadata": {},
   "outputs": [
    {
     "name": "stdout",
     "output_type": "stream",
     "text": [
      "Requirement already satisfied: matplotlib in /opt/conda/envs/.venv/lib/python3.10/site-packages (3.8.0)\n",
      "Requirement already satisfied: contourpy>=1.0.1 in /opt/conda/envs/.venv/lib/python3.10/site-packages (from matplotlib) (1.1.1)\n",
      "Requirement already satisfied: cycler>=0.10 in /opt/conda/envs/.venv/lib/python3.10/site-packages (from matplotlib) (0.11.0)\n",
      "Requirement already satisfied: fonttools>=4.22.0 in /opt/conda/envs/.venv/lib/python3.10/site-packages (from matplotlib) (4.42.1)\n",
      "Requirement already satisfied: kiwisolver>=1.0.1 in /opt/conda/envs/.venv/lib/python3.10/site-packages (from matplotlib) (1.4.5)\n",
      "Requirement already satisfied: numpy<2,>=1.21 in /opt/conda/envs/.venv/lib/python3.10/site-packages (from matplotlib) (1.26.0)\n",
      "Requirement already satisfied: packaging>=20.0 in /opt/conda/envs/.venv/lib/python3.10/site-packages (from matplotlib) (23.1)\n",
      "Requirement already satisfied: pillow>=6.2.0 in /opt/conda/envs/.venv/lib/python3.10/site-packages (from matplotlib) (10.0.1)\n",
      "Requirement already satisfied: pyparsing>=2.3.1 in /opt/conda/envs/.venv/lib/python3.10/site-packages (from matplotlib) (3.1.1)\n",
      "Requirement already satisfied: python-dateutil>=2.7 in /opt/conda/envs/.venv/lib/python3.10/site-packages (from matplotlib) (2.8.2)\n",
      "Requirement already satisfied: six>=1.5 in /opt/conda/envs/.venv/lib/python3.10/site-packages (from python-dateutil>=2.7->matplotlib) (1.16.0)\n"
     ]
    }
   ],
   "source": [
    "!pip install matplotlib"
   ]
  },
  {
   "cell_type": "code",
   "execution_count": 8,
   "id": "a872a8cd-117b-4238-a4ea-e31e9dac48f3",
   "metadata": {},
   "outputs": [],
   "source": [
    "%%python\n",
    "\n",
    "from PIL import Image\n",
    "import numpy as np\n",
    "\n",
    "\n",
    "image = Image.open('img_in.jpg') \n",
    "image = image.resize((512, 512))\n",
    "\n",
    "image_array = np.array(image)\n",
    "if len(image_array.shape) == 3 and image_array.shape[2] == 3:\n",
    "    image_array = np.array(image.convert('L'))"
   ]
  },
  {
   "cell_type": "code",
   "execution_count": 9,
   "id": "6a1cd914-db44-4e34-a9fb-5d2100b298b8",
   "metadata": {},
   "outputs": [
    {
     "name": "stdout",
     "output_type": "stream",
     "text": [
      "[[126 126 125 ...  84  84  84]\n",
      " [126 126 125 ...  84  84  84]\n",
      " [127 126 126 ...  84  84  84]\n",
      " ...\n",
      " [ 58  55  63 ...  19  15   8]\n",
      " [ 57  56  53 ...  23  17  16]\n",
      " [ 55  50  58 ...   5  16  16]]\n"
     ]
    }
   ],
   "source": [
    "%%python\n",
    "\n",
    "print(image_array)"
   ]
  },
  {
   "cell_type": "code",
   "execution_count": 10,
   "id": "7545b5c9-c901-4599-abde-3ae5ac17e160",
   "metadata": {},
   "outputs": [],
   "source": [
    "void displayImgArray(float* input) {\n",
    "    for (int i = 0; i < 3; i++) {\n",
    "        std::cout << input[i] << \" \"; \n",
    "    }\n",
    "\n",
    "    std::cout << \" ... \";\n",
    "\n",
    "    for (int i = width * height - 3; i < width * height; i++) {\n",
    "        std::cout << input[i] << \" \"; \n",
    "    }\n",
    "}"
   ]
  },
  {
   "cell_type": "code",
   "execution_count": 11,
   "id": "a3c74a47-399e-4454-89f6-f4e8b0376a68",
   "metadata": {},
   "outputs": [],
   "source": [
    "%%python\n",
    "\n",
    "import cppyy\n",
    "\n",
    "img_list = image_array.flatten().tolist()\n",
    "img_vector = cppyy.gbl.std.vector['float'](img_list)"
   ]
  },
  {
   "cell_type": "code",
   "execution_count": 12,
   "id": "ab6c16bd-c44a-4e4e-985a-12c5ca3256a8",
   "metadata": {},
   "outputs": [],
   "source": [
    "\n",
    "void setImg(const std::vector<float>& input) {\n",
    "    if (h_input != nullptr) {\n",
    "        delete[] h_input;\n",
    "    }\n",
    "\n",
    "    h_input = new float[input.size()];\n",
    "\n",
    "    for (size_t i = 0; i < input.size(); i++) {\n",
    "        h_input[i] = input[i]; // No casting needed\n",
    "    }\n",
    "}\n"
   ]
  },
  {
   "cell_type": "code",
   "execution_count": 13,
   "id": "a168bbab-fc67-41f5-85c1-f9980d75a00b",
   "metadata": {},
   "outputs": [],
   "source": [
    "std::vector<float> getOutput() {\n",
    "    std::vector<float> res;\n",
    "    for (size_t i = 0; i < width * height; i++) {\n",
    "        res.push_back(h_output[i]);\n",
    "    }\n",
    "    return res;\n",
    "}"
   ]
  },
  {
   "cell_type": "code",
   "execution_count": 14,
   "id": "2eec8b62-5500-45e4-9c02-9bc587288206",
   "metadata": {},
   "outputs": [],
   "source": [
    "%%python\n",
    "\n",
    "cppyy.gbl.setImg(img_vector)"
   ]
  },
  {
   "cell_type": "code",
   "execution_count": 15,
   "id": "fd1bef06-d14e-4c82-8fa5-da14df696fe5",
   "metadata": {},
   "outputs": [
    {
     "name": "stdout",
     "output_type": "stream",
     "text": [
      "126 126 125  ... 5 16 16 "
     ]
    }
   ],
   "source": [
    "displayImgArray(h_input);"
   ]
  },
  {
   "cell_type": "code",
   "execution_count": 16,
   "id": "ea90464f-ed8f-44f1-9336-99aa3dc85149",
   "metadata": {},
   "outputs": [],
   "source": [
    "float* d_input;\n",
    "float* d_output;\n",
    "\n",
    "cudaMalloc((void**)&d_input, width * height * sizeof(float));\n",
    "cudaMalloc((void**)&d_output, width * height * sizeof(float));\n",
    "\n",
    "cudaMemcpy(d_input, h_input, width * height * sizeof(float), cudaMemcpyHostToDevice);\n",
    "\n",
    "dim3 dimBlock(16, 16);\n",
    "dim3 dimGrid((width + dimBlock.x - 1) / dimBlock.x, (height + dimBlock.y - 1) / dimBlock.y);\n",
    "\n",
    "thresholdKernel<<<dimGrid, dimBlock>>>(d_input, d_output, width, height);\n",
    "\n",
    "cudaMemcpy(h_output, d_output, width * height * sizeof(float), cudaMemcpyDeviceToHost);\n",
    "\n",
    "cudaFree(d_input);\n",
    "cudaFree(d_output)"
   ]
  },
  {
   "cell_type": "code",
   "execution_count": 17,
   "id": "7bf09ac1-ac6b-45e9-93c2-d4ae50897c2d",
   "metadata": {},
   "outputs": [
    {
     "name": "stdout",
     "output_type": "stream",
     "text": [
      "50.4 50.4 50  ... 2 6.4 6.4 "
     ]
    }
   ],
   "source": [
    "displayImgArray(h_output);"
   ]
  },
  {
   "cell_type": "code",
   "execution_count": 18,
   "id": "3a97a53f-c2b7-4e24-a299-a6c0ec81b16e",
   "metadata": {},
   "outputs": [],
   "source": [
    "std::vector<float> blurredRes = getOutput();"
   ]
  },
  {
   "cell_type": "code",
   "execution_count": 19,
   "id": "2586f437-295d-4b33-b18e-6f28628a7f81",
   "metadata": {},
   "outputs": [],
   "source": [
    "%%python\n",
    "\n",
    "k = np.array(cppyy.gbl.blurredRes, dtype = np.uint8)\n",
    "k.resize(512, 512)"
   ]
  },
  {
   "cell_type": "code",
   "execution_count": 20,
   "id": "a8104074-7398-4653-a81a-827dd81a16b3",
   "metadata": {},
   "outputs": [],
   "source": [
    "%%python\n",
    "\n",
    "Image.fromarray(k).save(\"img_out.jpg\")"
   ]
  },
  {
   "cell_type": "markdown",
   "id": "d0d2e15b-5a5f-4ed8-8f17-3fd1f3fc4daf",
   "metadata": {},
   "source": [
    "<img src=\"img_out.jpg\" align=right width=\"400\">\n",
    "<img src=\"img_in.jpg\" align=left width=\"400\">"
   ]
  }
 ],
 "metadata": {
  "kernelspec": {
   "display_name": "CUDA (C++17)",
   "language": "CUDA",
   "name": "cuda-xcpp17"
  },
  "language_info": {
   "codemirror_mode": "text/x-c++src",
   "file_extension": ".cpp",
   "mimetype": "text/x-c++src",
   "name": "c++",
   "version": "17"
  }
 },
 "nbformat": 4,
 "nbformat_minor": 5
}
