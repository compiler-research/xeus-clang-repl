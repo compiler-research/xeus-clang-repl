{
 "cells": [
  {
   "cell_type": "markdown",
   "id": "ca6bccaa",
   "metadata": {},
   "source": [
    "## Declaring variables in C++ "
   ]
  },
  {
   "cell_type": "code",
   "execution_count": 1,
   "id": "879a6503",
   "metadata": {},
   "outputs": [],
   "source": [
    "extern \"C\" int printf(const char*,...);"
   ]
  },
  {
   "cell_type": "code",
   "execution_count": 2,
   "id": "2063086d",
   "metadata": {},
   "outputs": [],
   "source": [
    "int new_var1 = 12;\n",
    "int new_var2 = 25;\n",
    "int new_var3 = 64;"
   ]
  },
  {
   "cell_type": "markdown",
   "id": "6e42ad3d",
   "metadata": {},
   "source": [
    "## Running Python with C++ variables"
   ]
  },
  {
   "cell_type": "code",
   "execution_count": 3,
   "id": "7edde9fb",
   "metadata": {
    "scrolled": true
   },
   "outputs": [
    {
     "name": "stdout",
     "output_type": "stream",
     "text": [
      "This is printed from Python: Today is Tue Oct 25 11:38:08 2022\n",
      "[1, 2, 12, 25, 64]\n"
     ]
    }
   ],
   "source": [
    "%%python\n",
    "\n",
    "from time import time,ctime\n",
    "print('This is printed from Python: Today is', ctime(time()))\n",
    "python_array = [1, 2, new_var1, new_var2, new_var3]\n",
    "print(python_array)"
   ]
  },
  {
   "cell_type": "code",
   "execution_count": 4,
   "id": "579f1d82",
   "metadata": {},
   "outputs": [],
   "source": [
    "%%python \n",
    "\n",
    "new_python_var = 1327\n"
   ]
  },
  {
   "cell_type": "code",
   "execution_count": 5,
   "id": "43391a7e",
   "metadata": {},
   "outputs": [
    {
     "name": "stdout",
     "output_type": "stream",
     "text": [
      "new_python_var = 1327\n"
     ]
    }
   ],
   "source": [
    "auto k = printf(\"new_python_var = %d\\n\", new_python_var);"
   ]
  },
  {
   "cell_type": "markdown",
   "id": "9030df20",
   "metadata": {},
   "source": [
    "## Working with a vector type"
   ]
  },
  {
   "cell_type": "code",
   "execution_count": 6,
   "id": "400e42d3",
   "metadata": {},
   "outputs": [],
   "source": [
    "#include <iostream>\n",
    "#include <vector>"
   ]
  },
  {
   "cell_type": "code",
   "execution_count": 7,
   "id": "92b2bd05",
   "metadata": {},
   "outputs": [],
   "source": [
    "std::vector<int> fill_vector(std::vector<int> g) { for (int i = 1; i <= 5; i++){ g.push_back(i);} return g; }"
   ]
  },
  {
   "cell_type": "code",
   "execution_count": 8,
   "id": "ea7f2d92",
   "metadata": {},
   "outputs": [],
   "source": [
    "int size_of_vector (std::vector<int> g) { std::cout << \"Size : \" << g.size(); return g.size(); }"
   ]
  },
  {
   "cell_type": "code",
   "execution_count": 9,
   "id": "760237a2",
   "metadata": {},
   "outputs": [],
   "source": [
    "int capacity_of_vector (std::vector<int> g) { std::cout << \"Capacity : \" << g.capacity(); return g.capacity(); }"
   ]
  },
  {
   "cell_type": "code",
   "execution_count": 10,
   "id": "1c02ee6c",
   "metadata": {},
   "outputs": [],
   "source": [
    "std::vector<int> cpp_vector = fill_vector(cpp_vector);"
   ]
  },
  {
   "cell_type": "code",
   "execution_count": 11,
   "id": "a7fb4cb5",
   "metadata": {},
   "outputs": [
    {
     "name": "stdout",
     "output_type": "stream",
     "text": [
      "Size : 5"
     ]
    }
   ],
   "source": [
    "int size = size_of_vector(cpp_vector);"
   ]
  },
  {
   "cell_type": "code",
   "execution_count": 12,
   "id": "95f8e6f7",
   "metadata": {},
   "outputs": [
    {
     "name": "stdout",
     "output_type": "stream",
     "text": [
      "Capacity : 5"
     ]
    }
   ],
   "source": [
    "int capacity = capacity_of_vector(cpp_vector);"
   ]
  },
  {
   "cell_type": "markdown",
   "id": "781feea0",
   "metadata": {},
   "source": [
    "## Plotting data from C++ and Python"
   ]
  },
  {
   "cell_type": "code",
   "execution_count": 13,
   "id": "7ccb6fe7",
   "metadata": {},
   "outputs": [
    {
     "name": "stdout",
     "output_type": "stream",
     "text": [
      "[1, 2, 3, 4, 5]\n",
      "[1, 2, 12, 25, 64]\n"
     ]
    }
   ],
   "source": [
    "%%python\n",
    "\n",
    "print(cpp_vector)\n",
    "print(python_array)"
   ]
  },
  {
   "cell_type": "code",
   "execution_count": 14,
   "id": "531e00ff",
   "metadata": {},
   "outputs": [],
   "source": [
    "%%python\n",
    "\n",
    "import matplotlib.pyplot as plt\n",
    "import numpy as np\n",
    "\n",
    "plt.plot(python_array, cpp_vector,linewidth=3)\n",
    "plt.xlabel('Python Array')\n",
    "plt.ylabel('Cpp Array')\n",
    "plt.savefig('python_cpp_plot.png')"
   ]
  },
  {
   "cell_type": "markdown",
   "id": "b1842530",
   "metadata": {},
   "source": [
    "<img src=\"python_cpp_plot.png\" align=left width=\"400\">"
   ]
  },
  {
   "cell_type": "code",
   "execution_count": null,
   "id": "7bf12bfb",
   "metadata": {},
   "outputs": [],
   "source": []
  }
 ],
 "metadata": {
  "kernelspec": {
   "display_name": "C++11",
   "language": "C++11",
   "name": "xcpp11"
  },
  "language_info": {
   "codemirror_mode": "text/x-c++src",
   "file_extension": ".cpp",
   "mimetype": "text/x-c++src",
   "name": "c++",
   "version": "11"
  }
 },
 "nbformat": 4,
 "nbformat_minor": 5
}
