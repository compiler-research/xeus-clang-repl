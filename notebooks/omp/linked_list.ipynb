{
 "cells": [
  {
   "cell_type": "code",
   "execution_count": null,
   "id": "156447d2-9279-45a0-890b-4e519d2c796b",
   "metadata": {},
   "outputs": [],
   "source": [
    "#include <stdlib.h>\n",
    "#include <stdio.h>\n",
    "#include <omp.h>\n",
    "#include </home/jovyan/CppInterOp/include/clang/Interpreter/CppInterOp.h>"
   ]
  },
  {
   "cell_type": "code",
   "execution_count": null,
   "id": "c96fdeb0-817d-48c0-af8e-20a52947d60b",
   "metadata": {},
   "outputs": [],
   "source": [
    "#ifndef N\n",
    "#define N 5\n",
    "#endif\n",
    "#ifndef FS\n",
    "#define FS 38\n",
    "#endif"
   ]
  },
  {
   "cell_type": "code",
   "execution_count": null,
   "id": "8da842e1-db02-49e0-929d-4e67cbc08172",
   "metadata": {},
   "outputs": [],
   "source": [
    "Cpp::LoadLibrary(\"libomp\");"
   ]
  },
  {
   "cell_type": "code",
   "execution_count": null,
   "id": "22f97c49-78d1-496e-ac7c-978aed95331a",
   "metadata": {},
   "outputs": [],
   "source": [
    "struct node {\n",
    "  int data;\n",
    "  int fibdata;\n",
    "  struct node *next;\n",
    "};"
   ]
  },
  {
   "cell_type": "code",
   "execution_count": null,
   "id": "b16b1e8a-8831-4b8d-9d57-09deeaaa88ee",
   "metadata": {},
   "outputs": [],
   "source": [
    "struct node *init_list(struct node *p);\n",
    "void processwork(struct node *p);\n",
    "int fib(int n);"
   ]
  },
  {
   "cell_type": "code",
   "execution_count": null,
   "id": "0ef8af6c-1d6f-4c68-84bc-3dd1d8092b06",
   "metadata": {},
   "outputs": [],
   "source": [
    "int fib(int n) {\n",
    "  int x, y;\n",
    "  if (n < 2) {\n",
    "    return (n);\n",
    "  } else {\n",
    "    x = fib(n - 1);\n",
    "    y = fib(n - 2);\n",
    "    return (x + y);\n",
    "  }\n",
    "}"
   ]
  },
  {
   "cell_type": "code",
   "execution_count": null,
   "id": "1fa0307d-fdc9-4503-95cb-1c6448791354",
   "metadata": {},
   "outputs": [],
   "source": [
    "void processwork(struct node *p) {\n",
    "  int n, temp;\n",
    "  n = p->data;\n",
    "  temp = fib(n);\n",
    "\n",
    "  p->fibdata = temp;\n",
    "}"
   ]
  },
  {
   "cell_type": "code",
   "execution_count": null,
   "id": "03acb599-9329-49ff-8aff-c0902adb6c3c",
   "metadata": {},
   "outputs": [],
   "source": [
    "struct node *init_list(struct node *p) {\n",
    "  int i;\n",
    "  struct node *head = NULL;\n",
    "  struct node *temp = NULL;\n",
    "\n",
    "  head = (struct node*) malloc(sizeof(struct node));\n",
    "  p = head;\n",
    "  p->data = FS;\n",
    "  p->fibdata = 0;\n",
    "  for (i = 0; i < N; i++) {\n",
    "    temp = (struct node*) malloc(sizeof(struct node));\n",
    "    p->next = temp;\n",
    "    p = temp;\n",
    "    p->data = FS + i + 1;\n",
    "    p->fibdata = i + 1;\n",
    "  }\n",
    "\n",
    "  p->next = NULL;\n",
    "  return head;\n",
    "}"
   ]
  },
  {
   "cell_type": "code",
   "execution_count": null,
   "id": "f2dfb41b-e55f-43c0-b7f6-546a1697acb1",
   "metadata": {},
   "outputs": [],
   "source": [
    "int main() {\n",
    "  double start, end;\n",
    "  struct node *p = NULL;\n",
    "  struct node *temp = NULL;\n",
    "  struct node *head = NULL;\n",
    "\n",
    "  printf(\"Process linked list\\n\");\n",
    "  printf(\"  Each linked list node will be processed by function 'processwork()'\\n\");\n",
    "  printf(\"  Each ll node will compute %d fibonacci numbers beginning with %d\\n\", N, FS);\n",
    "\n",
    "  omp_set_num_threads(omp_get_max_threads());\n",
    "\n",
    "  p = init_list(p);\n",
    "  head = p;\n",
    "\n",
    "  start = omp_get_wtime();\n",
    "\n",
    "#pragma omp parallel\n",
    "  {\n",
    "#pragma omp master\n",
    "    printf(\"Threads:      %d\\n\", omp_get_num_threads());\n",
    "\n",
    "#pragma omp single\n",
    "    {\n",
    "      p = head;\n",
    "      while (p) {\n",
    "#pragma omp task firstprivate(p) // first private is required\n",
    "        {\n",
    "          processwork(p);\n",
    "        }\n",
    "        p = p->next;\n",
    "      }\n",
    "    }\n",
    "  }\n",
    "\n",
    "  end = omp_get_wtime();\n",
    "  p = head;\n",
    "  while (p != NULL) {\n",
    "    printf(\"%d : %d\\n\", p->data, p->fibdata);\n",
    "    temp = p->next;\n",
    "    free(p);\n",
    "    p = temp;\n",
    "  }\n",
    "\n",
    "  free(p);\n",
    "  printf(\"Compute Time: %f seconds\\n\", end - start);\n",
    "\n",
    "  return 0;\n",
    "}"
   ]
  },
  {
   "cell_type": "code",
   "execution_count": null,
   "id": "353e5dfd-fcae-43e6-97e3-ec98070811a1",
   "metadata": {},
   "outputs": [],
   "source": [
    "main();"
   ]
  },
  {
   "cell_type": "code",
   "execution_count": null,
   "id": "a24f21c1-2ddc-4e46-b9ee-7cc98fc2821a",
   "metadata": {},
   "outputs": [],
   "source": []
  }
 ],
 "metadata": {
  "kernelspec": {
   "display_name": "C++14",
   "language": "C++14",
   "name": "xcpp14"
  },
  "language_info": {
   "codemirror_mode": "text/x-c++src",
   "file_extension": ".cpp",
   "mimetype": "text/x-c++src",
   "name": "c++",
   "version": "14"
  }
 },
 "nbformat": 4,
 "nbformat_minor": 5
}
