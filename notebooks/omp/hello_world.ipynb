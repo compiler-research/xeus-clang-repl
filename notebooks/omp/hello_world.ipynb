{
 "cells": [
  {
   "cell_type": "code",
   "execution_count": 1,
   "id": "73cbab37-71dd-477d-981b-f2ec28c01bd6",
   "metadata": {},
   "outputs": [],
   "source": [
    "#include <stdio.h>\n",
    "#include <omp.h>\n",
    "#include <clang/Interpreter/CppInterOp.h>"
   ]
  },
  {
   "cell_type": "code",
   "execution_count": 2,
   "id": "ef1cd58a-672c-4a6f-843a-6c88fc4911f3",
   "metadata": {},
   "outputs": [],
   "source": [
    "Cpp::LoadLibrary(\"libomp\");\n",
    " "
   ]
  },
  {
   "cell_type": "code",
   "execution_count": 3,
   "id": "c2b754ad-9553-4a42-b990-f990a9a269ed",
   "metadata": {},
   "outputs": [],
   "source": [
    "int main() {\n",
    "    int max_threads = omp_get_max_threads();\n",
    "\n",
    "    printf(\"max threads: %d\\n\", max_threads);\n",
    "    omp_set_num_threads(max_threads);\n",
    "\n",
    "#pragma omp parallel\n",
    "    {\n",
    "        int id = omp_get_thread_num();\n",
    "        printf(\"Hello World from thread = %d with %d threads\\n\", id, omp_get_num_threads());\n",
    "    }\n",
    "\n",
    "    printf(\"all done, with hopefully %d threads\\n\", max_threads);\n",
    "}"
   ]
  },
  {
   "cell_type": "code",
   "execution_count": 4,
   "id": "a37a13d4-fc82-496e-8f42-9e718a8c2aa0",
   "metadata": {},
   "outputs": [
    {
     "name": "stdout",
     "output_type": "stream",
     "text": [
      "max threads: 8\n",
      "Hello World from thread = 2 with 8 threads\n",
      "Hello World from thread = 0 with 8 threads\n",
      "Hello World from thread = 1 with 8 threads\n",
      "Hello World from thread = 7 with 8 threads\n",
      "Hello World from thread = 4 with 8 threads\n",
      "Hello World from thread = 5 with 8 threads\n",
      "Hello World from thread = 3 with 8 threads\n",
      "Hello World from thread = 6 with 8 threads\n",
      "all done, with hopefully 8 threads\n"
     ]
    }
   ],
   "source": [
    "main();"
   ]
  },
  {
   "cell_type": "code",
   "execution_count": null,
   "id": "af54945c-2412-4aee-bbfc-a2f6fc72d23f",
   "metadata": {},
   "outputs": [],
   "source": []
  }
 ],
 "metadata": {
  "kernelspec": {
   "display_name": "C++17 (+OpenMP)",
   "language": "C++17",
   "name": "omp-xcpp17"
  },
  "language_info": {
   "codemirror_mode": "text/x-c++src",
   "file_extension": ".cpp",
   "mimetype": "text/x-c++src",
   "name": "c++",
   "version": "17"
  }
 },
 "nbformat": 4,
 "nbformat_minor": 5
}
