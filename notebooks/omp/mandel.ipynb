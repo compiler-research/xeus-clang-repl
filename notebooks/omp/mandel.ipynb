{
 "cells": [
  {
   "cell_type": "code",
   "execution_count": null,
   "id": "5059dbdd-821d-498a-8716-eb0fcf8a8f5f",
   "metadata": {},
   "outputs": [],
   "source": [
    "#include <stdio.h>\n",
    "#include <stdlib.h>\n",
    "#include <math.h>\n",
    "#include <omp.h>"
   ]
  },
  {
   "cell_type": "code",
   "execution_count": null,
   "id": "8b66f96a-14ef-4f23-8024-bcfc42b31e4e",
   "metadata": {},
   "outputs": [],
   "source": [
    "#define NPOINTS 1000\n",
    "#define MAXITER 1000"
   ]
  },
  {
   "cell_type": "code",
   "execution_count": null,
   "id": "d89dd57c-fe19-4233-a33a-df9b24fae98a",
   "metadata": {},
   "outputs": [],
   "source": [
    "int numoutside = 0;"
   ]
  },
  {
   "cell_type": "code",
   "execution_count": null,
   "id": "5c35c479-2f79-46b7-bc66-24be6b1694e0",
   "metadata": {},
   "outputs": [],
   "source": [
    "void testpoint(double creal, double cimag) {\n",
    "    // iterate z=z*z+c, until |z| > 2 when point is known to be outside set\n",
    "    // If loop count reaches MAXITER, point is considered to be inside the set\n",
    "\n",
    "    double zreal, zimag, temp;\n",
    "    int iter;\n",
    "    zreal = creal;\n",
    "    zimag = cimag;\n",
    "\n",
    "    for (iter = 0; iter < MAXITER; iter++) {\n",
    "        temp = (zreal * zreal) - (zimag * zimag) + creal;\n",
    "        zimag = zreal * zimag * 2 + cimag;\n",
    "        zreal = temp;\n",
    "        if ((zreal * zreal + zimag * zimag) > 4.0) {\n",
    "            numoutside++;\n",
    "            break;\n",
    "        }\n",
    "    }\n",
    "}"
   ]
  },
  {
   "cell_type": "code",
   "execution_count": null,
   "id": "ea116fef-7d05-4e29-97a1-55c85c7241d8",
   "metadata": {},
   "outputs": [],
   "source": [
    "int main() {\n",
    "    int i, j;\n",
    "    double area, error, eps = 1.0e-5;\n",
    "    double cimag, creal;\n",
    "    // Loop over grid of points in the complex plane which contains the Mandelbrot set,\n",
    "    // testing each point to see whether it is inside or outside the set.\n",
    "\n",
    "#pragma omp parallel for private(eps)\n",
    "    for (i = 0; i < NPOINTS; i++) {\n",
    "        for (j = 0; j < NPOINTS; j++) {\n",
    "            creal = -2.0 + 2.5 * (double) (i) / (double) (NPOINTS) + eps;\n",
    "            cimag = 1.125 * (double) (j) / (double) (NPOINTS) + eps;\n",
    "            testpoint(creal, cimag);\n",
    "        }\n",
    "    }\n",
    "\n",
    "    // Calculate area of set and error estimate and output the results\n",
    "    area = 2.0 * 2.5 * 1.125 * (double) (NPOINTS * NPOINTS - numoutside) / (double) (NPOINTS * NPOINTS);\n",
    "    error = area / (double) NPOINTS;\n",
    "\n",
    "    printf(\"Area of Mandlebrot set = %12.8f +/- %12.8f\\n\", area, error);\n",
    "    printf(\"Correct answer should be around 1.510659\\n\");\n",
    "}"
   ]
  },
  {
   "cell_type": "code",
   "execution_count": null,
   "id": "39cf129c-8106-4e67-a2f1-1a7fff17cd38",
   "metadata": {},
   "outputs": [],
   "source": [
    "main();"
   ]
  },
  {
   "cell_type": "code",
   "execution_count": null,
   "id": "7bcf082a-e0a5-4260-8729-cbfab515cc6a",
   "metadata": {},
   "outputs": [],
   "source": []
  }
 ],
 "metadata": {
  "kernelspec": {
   "display_name": "C++14",
   "language": "C++14",
   "name": "xcpp14"
  },
  "language_info": {
   "codemirror_mode": "text/x-c++src",
   "file_extension": ".cpp",
   "mimetype": "text/x-c++src",
   "name": "c++",
   "version": "14"
  }
 },
 "nbformat": 4,
 "nbformat_minor": 5
}
